{
 "cells": [
  {
   "cell_type": "markdown",
   "metadata": {},
   "source": [
    "# 7장 신경망 · 딥러닝"
   ]
  },
  {
   "cell_type": "markdown",
   "metadata": {},
   "source": [
    "### 뉴런모델\n",
    "\n",
    "- D=2의 경우 입력 x0,x1과 항상 1의 더미 입력 x2  \n",
    "- 입력 총합 a는 입력 x에 w를 곱한 수의 합으로 구한다 : a = w0x0 + w1x1 + w2x2\n",
    "- 입력 총합 a에 시그모이드 함수를 통해서 출력 y를 구한다."
   ]
  },
  {
   "cell_type": "markdown",
   "metadata": {},
   "source": [
    "### 신경망 모델"
   ]
  },
  {
   "cell_type": "markdown",
   "metadata": {},
   "source": [
    "신호가 되돌아가는 경로가 없이, 한 방향으로만 흐르는 '피드 포워드 신경망'  \n",
    "  \n",
    "2층의 피드 포워드 신경망  \n",
    "- 중간층의 입력 총합 : bj = Σwjixi\n",
    "- 중간층의 출력 : zj = h(bj)\n",
    "- 출력층의 입력 총합 : ak= Σvkzj\n",
    "- 출력층의 출력 : yk = exp(ak)/u"
   ]
  },
  {
   "cell_type": "code",
   "execution_count": 1,
   "metadata": {},
   "outputs": [],
   "source": [
    "import numpy as np\n",
    "\n",
    "np.random.seed(1)\n",
    "N =200\n",
    "K =3\n",
    "T = np.zeros((N,3),dtype=np.uint8)\n",
    "X = np.zeros((N,2))\n",
    "X_range0 = [-3,3]\n",
    "X_range1 = [-3,3]\n",
    "Mu = np.array([[-.5,-.5],[.5,1.0],[1,-.5]]) #분포의 중심\n",
    "Sig = np.array([[.7,.7],[.8,.3],[.3,.8]]) #분포의 분산\n",
    "Pi = np.array([0.4,0.8,1]) #각 분포에 대한 비율\n",
    "for n in range(N):\n",
    "    wk = np.random.rand()\n",
    "    for k in range(K):\n",
    "        T[n,k]=1\n",
    "        break\n",
    "    for k in range(2):\n",
    "        X[n,k]=(np.random.randn()*Sig[T[n,:]==1,k] + Mu[T[n,:]==1,k])"
   ]
  },
  {
   "cell_type": "code",
   "execution_count": 2,
   "metadata": {},
   "outputs": [],
   "source": [
    "TestRatio = 0.5\n",
    "X_n_training = int(N*TestRatio)\n",
    "X_train = X[:X_n_training,:]\n",
    "X_test = X[X_n_training:,:]\n",
    "T_train = T[:X_n_training,:]\n",
    "T_test = T[X_n_training:,:]\n",
    "\n",
    "\n",
    "np.savez('class_data.npz',X_train=X_train,T_train=T_train,X_test=X_test,T_test=T_test,X_range0=X_range0,X_range1=X_range1)"
   ]
  },
  {
   "cell_type": "code",
   "execution_count": 7,
   "metadata": {},
   "outputs": [
    {
     "data": {
      "image/png": "[encoded data removed]",
      "text/plain": [
       "<Figure size 576x266.4 with 2 Axes>"
      ]
     },
     "metadata": {
      "needs_background": "light"
     },
     "output_type": "display_data"
    }
   ],
   "source": [
    "import matplotlib.pyplot as plt\n",
    "%matplotlib inline\n",
    "\n",
    "def Show_data(x,t):\n",
    "    \n",
    "    wk , n =t.shape\n",
    "    c=[[0,0,0],[.5,.5,.5],[1,1,1]]\n",
    "    for i in range(n):\n",
    "        k=c[i]\n",
    "        plt.plot(x[t[:,i]==1,0],x[t[:,i]==1,1],linestyle='none',marker='o',markeredgecolor='black',color=k,alpha=0.8)\n",
    "    plt.grid(True)\n",
    "    \n",
    "plt.figure(1,figsize=(8,3.7))\n",
    "plt.subplot(1,2,1)\n",
    "Show_data(X_train,T_train)\n",
    "plt.xlim(X_range0)\n",
    "plt.ylim(X_range1)\n",
    "plt.title('Training Data')\n",
    "plt.subplot(1,2,2)\n",
    "Show_data(X_test,T_test)\n",
    "plt.xlim(X_range0)\n",
    "plt.ylim(X_range1)\n",
    "plt.title('Test Data')\n",
    "plt.show()\n"
   ]
  },
  {
   "cell_type": "markdown",
   "metadata": {},
   "source": [
    "2층의 피드 포워드 신경망을 정의하는 함수 FNN    \n",
    "\n",
    "네트워크의 입력x를 받아 y를 출력  \n",
    "(입력 x는 D차원 벡터, 입력 y는 K차원 벡터)  \n",
    "    \n",
    "1. x를 N × D, y를 N × K 행렬로  \n",
    "2. 중간층의 수와 출력의 차원을 각각 M,K  \n",
    "3. 중간층 가중치 W와 출력층의 가중치 V (W는 M × (D+1) 행렬로, V는 K × (M+1)행렬로)\n",
    "4. W와 V의 정보는 W,V를 한 덩어리로 한 벡터 wv로 전달 (wv의 길이는 M × (D+1) + K × (M+1) )\n",
    "5. FNN의 출력은 N개의 데이터에 대응한 출력 y와 중간층의 출력 z, 출력층과 중간층의 입력 총합 a,v도 출력함"
   ]
  },
  {
   "cell_type": "code",
   "execution_count": 10,
   "metadata": {},
   "outputs": [
    {
     "data": {
      "text/plain": [
       "(array([[0.33333333, 0.33333333, 0.33333333],\n",
       "        [0.33333333, 0.33333333, 0.33333333]]),\n",
       " array([[1.58812455, 1.58812455, 1.58812455],\n",
       "        [1.49172649, 1.49172649, 1.49172649]]),\n",
       " array([[0.29406228, 0.29406228, 1.        ],\n",
       "        [0.24586324, 0.24586324, 1.        ]]),\n",
       " array([[-0.87573545, -0.87573545,  0.        ],\n",
       "        [-1.12079826, -1.12079826,  0.        ]]))"
      ]
     },
     "execution_count": 10,
     "metadata": {},
     "output_type": "execute_result"
    }
   ],
   "source": [
    "def Sigmoid(x): #시그모이드 함수\n",
    "    y = 1/(1+np.exp(-x))\n",
    "    return y\n",
    "#네트워크\n",
    "def FNN(wv,M,K,x):\n",
    "    N,D=x.shape #입력 차원\n",
    "    w = wv[:M*(D+1)] # 중간층 뉴런의 가중치\n",
    "    w = w.reshape(M,(D+1)) \n",
    "    v = wv[M*(D+1):] # 출력층 뉴런의 가중치\n",
    "    v = v.reshape(K,(M+1))\n",
    "    b = np.zeros((N,M+1)) #중간층 뉴런의 입력 총합\n",
    "    z = np.zeros((N,M+1)) #중간층 뉴런의 출력\n",
    "    a = np.zeros((N,K)) #출력층 뉴런의 입력 총합\n",
    "    y = np.zeros((N,K)) #출력층 뉴런의 출력\n",
    "    for n in range(N):\n",
    "    #중간층 계산\n",
    "        for m in range(M):\n",
    "            b[n,m]=np.dot(w[m,:],np.r_[x[n,:],1])\n",
    "            z[n,m] = Sigmoid(b[n,m])\n",
    "    #출력층 계산\n",
    "        z[n,M]=1 #더미 뉴런\n",
    "        wkz = 0\n",
    "        for k in range(K):\n",
    "            a[n,k]=np.dot(v[k,:],z[n,:])\n",
    "            wkz=wkz+np.exp(a[n,k])\n",
    "        for k in range(K):\n",
    "            y[n,k]=np.exp(a[n,k])/wkz\n",
    "    return y,a,z,b\n",
    "    \n",
    "WV=np.ones(15)\n",
    "M=2\n",
    "K=3\n",
    "FNN(WV,M,K,X_train[:2,:])"
   ]
  }
 ],
 "metadata": {
  "kernelspec": {
   "display_name": "Python 3",
   "language": "python",
   "name": "python3"
  },
  "language_info": {
   "codemirror_mode": {
    "name": "ipython",
    "version": 3
   },
   "file_extension": ".py",
   "mimetype": "text/x-python",
   "name": "python",
   "nbconvert_exporter": "python",
   "pygments_lexer": "ipython3",
   "version": "3.7.6"
  }
 },
 "nbformat": 4,
 "nbformat_minor": 4
}
